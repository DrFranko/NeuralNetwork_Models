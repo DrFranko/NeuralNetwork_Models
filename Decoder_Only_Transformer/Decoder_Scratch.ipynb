{
 "cells": [
  {
   "cell_type": "code",
   "execution_count": 1,
   "id": "19f31c7c-e0ff-495b-baf9-a1a57eefb884",
   "metadata": {},
   "outputs": [],
   "source": [
    "import torch\n",
    "import torch.nn as nn\n",
    "import torch.nn.functional as F\n",
    "from torch.optim import Adam"
   ]
  },
  {
   "cell_type": "markdown",
   "id": "fae0dd26-7cea-4003-9511-7a5979cbb421",
   "metadata": {},
   "source": [
    "Postional Encoding Equations:\n",
    "PE(pos, 2i)   = sin(pos / 10000^(2i/d_model))\n",
    " PE(pos, 2i+1) = cos(pos / 10000^(2i/d_model))"
   ]
  },
  {
   "cell_type": "code",
   "execution_count": 2,
   "id": "d9461b3c-ee53-4d49-93fc-33a9bd7c00b8",
   "metadata": {},
   "outputs": [],
   "source": [
    "class PositionEncoding(nn.Module):\n",
    "    def __init__(self,d_model=2,max_len=6):\n",
    "        super().__init__()\n",
    "        pe=torch.zeros(max_len,d_model)\n",
    "\n",
    "        pos=torch.arange(start=0,end=max_len,step=1).float().unsqueeze(1)\n",
    "        step=torch.arange(start=0,end=d_model,step=2).float()\n",
    "\n",
    "        pe[:,0::2]=torch.sin(pos/10000**(step/d_model))\n",
    "        pe[:,1::2]=torch.cos(pos/10000**(step/d_model))\n",
    "        self.register_buffer('pe', pe)\n",
    "\n",
    "    def forward(self,input):\n",
    "        return input+self.pe[:input.size(0)]"
   ]
  },
  {
   "cell_type": "markdown",
   "id": "bd92daaa-5d25-49bb-b5ac-451f902e7343",
   "metadata": {},
   "source": [
    "Self-Attention Equation:\n",
    "(q*k^T)/sqrt(d_model)"
   ]
  },
  {
   "cell_type": "code",
   "execution_count": 3,
   "id": "21d33981-ef8b-44bc-acc3-5fbd9b6ed6a1",
   "metadata": {},
   "outputs": [],
   "source": [
    "class Attention(nn.Module):\n",
    "    def __init__(self,d_model=2):\n",
    "        super().__init__()\n",
    "        self.d_model=d_model\n",
    "\n",
    "        self.W_q=nn.Linear(in_features=d_model,out_features=d_model,bias=False)\n",
    "        self.W_k=nn.Linear(in_features=d_model,out_features=d_model,bias=False)\n",
    "        self.W_v=nn.Linear(in_features=d_model,out_features=d_model,bias=False)\n",
    "        self.row_dim = 0\n",
    "        self.col_dim = 1\n",
    "\n",
    "    def forward(self, encodings_for_q, encodings_for_k, encodings_for_v, mask=None):\n",
    "        q = self.W_q(encodings_for_q)\n",
    "        k = self.W_k(encodings_for_k)\n",
    "        v = self.W_v(encodings_for_v)\n",
    "        sims = torch.matmul(q,k.transpose(dim0=self.row_dim, dim1=self.col_dim))\n",
    "        scaled_sims = sims / torch.tensor(k.size(self.col_dim)**0.5)\n",
    "\n",
    "        if mask is not None:\n",
    "            scaled_sims = scaled_sims.masked_fill(mask=mask, value=-1e9)\n",
    "        attention_percents = F.softmax(scaled_sims, dim=self.col_dim)\n",
    "        attention_scores = torch.matmul(attention_percents, v)\n",
    "        return attention_scores"
   ]
  },
  {
   "cell_type": "code",
   "execution_count": 5,
   "id": "9a20d127-3371-4309-bb0a-cfbe1abb5153",
   "metadata": {},
   "outputs": [],
   "source": [
    "class DecoderOnlyTransformer(nn.Module):\n",
    "    def __init__(self, num_tokens=4, d_model=2, max_len=6):   \n",
    "        super().__init__()\n",
    "        self.we = nn.Embedding(num_embeddings=num_tokens,embedding_dim=d_model)\n",
    "        self.pe = PositionEncoding(d_model=d_model,max_len=max_len)\n",
    "        self.self_attention = Attention(d_model=d_model)\n",
    "        self.fc_layer = nn.Linear(in_features=d_model, out_features=num_tokens)\n",
    "        self.loss = nn.CrossEntropyLoss()\n",
    "\n",
    "    def forward(self, token_ids):       \n",
    "        word_embeddings = self.we(token_ids)        \n",
    "        position_encoded = self.pe(word_embeddings)\n",
    "        mask = torch.tril(torch.ones((token_ids.size(dim=0), token_ids.size(dim=0)), device=token_ids.device)).bool()\n",
    "        mask = mask == 0\n",
    "        self_attention_values = self.self_attention(position_encoded,position_encoded,position_encoded,mask=mask)\n",
    "        residual_connection_values = position_encoded + self_attention_values\n",
    "        fc_layer_output = self.fc_layer(residual_connection_values)\n",
    "        return fc_layer_output\n",
    "    \n",
    "    def configure_optimizers(self): \n",
    "        return Adam(self.parameters(), lr=0.1)   \n",
    "        \n",
    "    def training_step(self, batch, batch_idx): \n",
    "        input_tokens, labels = batch \n",
    "        output = self.forward(input_tokens[0])\n",
    "        loss = self.loss(output, labels[0])         \n",
    "        return loss"
   ]
  }
 ],
 "metadata": {
  "kernelspec": {
   "display_name": "NLP",
   "language": "python",
   "name": "nlp"
  },
  "language_info": {
   "codemirror_mode": {
    "name": "ipython",
    "version": 3
   },
   "file_extension": ".py",
   "mimetype": "text/x-python",
   "name": "python",
   "nbconvert_exporter": "python",
   "pygments_lexer": "ipython3",
   "version": "3.8.19"
  }
 },
 "nbformat": 4,
 "nbformat_minor": 5
}
